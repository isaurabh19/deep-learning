{
  "nbformat": 4,
  "nbformat_minor": 0,
  "metadata": {
    "colab": {
      "name": "hw3_1a.ipynb",
      "provenance": []
    },
    "kernelspec": {
      "name": "python3",
      "display_name": "Python 3"
    },
    "accelerator": "GPU"
  },
  "cells": [
    {
      "cell_type": "code",
      "metadata": {
        "id": "0q9xGFja8-iM",
        "colab_type": "code",
        "colab": {
          "base_uri": "https://localhost:8080/",
          "height": 34
        },
        "outputId": "8a0cf5a2-17d3-4e7c-df49-a0c10fd09c94"
      },
      "source": [
        "from keras.datasets import cifar10, mnist\n",
        "import numpy as np\n",
        "import tensorflow as tf\n",
        "import random\n",
        "from keras.models import load_model\n",
        "import os\n",
        "import keras\n",
        "from keras.callbacks import Callback\n",
        "np.random.seed(0)\n",
        "tf.random.set_seed(0)\n",
        "random.seed(0)\n",
        "\n",
        "(x_train, y_train), (x_test, y_test) = mnist.load_data()\n",
        "print(\"Done loading data\")"
      ],
      "execution_count": null,
      "outputs": [
        {
          "output_type": "stream",
          "text": [
            "Done loading data\n"
          ],
          "name": "stdout"
        }
      ]
    },
    {
      "cell_type": "code",
      "metadata": {
        "id": "AJMT6ynb9Z-X",
        "colab_type": "code",
        "colab": {}
      },
      "source": [
        "taskA_indx_train = np.where((y_train==0)|(y_train==1)|(y_train==2)|(y_train==3)|(y_train==4))[0]\n",
        "taskA_indx_test = np.where((y_test==0)|(y_test==1)|(y_test==2)|(y_test==3)|(y_test==4))[0]\n",
        "\n",
        "taskB_indx_train = np.setdiff1d(np.arange(y_train.shape[0]), taskA_indx_train)\n",
        "taskB_indx_test = np.setdiff1d(np.arange(y_test.shape[0]), taskA_indx_test)"
      ],
      "execution_count": null,
      "outputs": []
    },
    {
      "cell_type": "code",
      "metadata": {
        "id": "DlmLhxCTUST8",
        "colab_type": "code",
        "colab": {
          "base_uri": "https://localhost:8080/",
          "height": 437
        },
        "outputId": "489b3298-3b3d-4d7a-f5a2-855ce623a00d"
      },
      "source": [
        "from keras.models import Sequential\n",
        "from keras.layers import Dense, Dropout, Activation, Flatten, BatchNormalization\n",
        "from keras.layers import Conv2D, MaxPooling2D\n",
        "import os\n",
        "\n",
        "num_classes = 10\n",
        "\n",
        "model = Sequential()\n",
        "# model.add(Conv2D(32, (3, 3), padding='same',\n",
        "#                  input_shape=(28,28,1)))\n",
        "# model.add(Activation('relu'))\n",
        "# # model.add(MaxPooling2D(pool_size=(2,2)))\n",
        "# model.add(Conv2D(64,(3,3)))\n",
        "# model.add(Activation('relu'))\n",
        "# model.add(MaxPooling2D(pool_size=(2,2)))\n",
        "# model.add(Dropout(0.25))\n",
        "# model.add(Conv2D(128,(3,3),padding='same'))\n",
        "# model.add(Activation('relu'))\n",
        "# model.add(Conv2D(128,(3,3), padding='same'))\n",
        "# model.add(Activation('relu'))\n",
        "# model.add(Conv2D(128,(3,3),padding='same'))\n",
        "# model.add(Activation('relu'))\n",
        "# model.add(MaxPooling2D(pool_size=(2,2)))\n",
        "# model.add(Dropout(0.25))\n",
        "\n",
        "# model.add(Flatten())\n",
        "model.add(Dense(512, input_shape=(28*28,)))\n",
        "model.add(Activation('relu'))\n",
        "model.add(Dropout(0.5))\n",
        "model.add(Dense(256))\n",
        "model.add(Activation('relu'))\n",
        "model.add(Dropout(0.5))\n",
        "model.add(Dense(num_classes))\n",
        "model.add(Activation('softmax'))\n",
        "\n",
        "print(model.summary())\n",
        "opt = keras.optimizers.Adam(learning_rate=0.001, decay=1e-6)\n",
        "\n",
        "# Let's train the model using RMSprop\n",
        "model.compile(loss='categorical_crossentropy',\n",
        "              optimizer=opt,\n",
        "              metrics=['accuracy'])\n",
        "\n"
      ],
      "execution_count": null,
      "outputs": [
        {
          "output_type": "stream",
          "text": [
            "Model: \"sequential_3\"\n",
            "_________________________________________________________________\n",
            "Layer (type)                 Output Shape              Param #   \n",
            "=================================================================\n",
            "dense_4 (Dense)              (None, 512)               401920    \n",
            "_________________________________________________________________\n",
            "activation_8 (Activation)    (None, 512)               0         \n",
            "_________________________________________________________________\n",
            "dropout_3 (Dropout)          (None, 512)               0         \n",
            "_________________________________________________________________\n",
            "dense_5 (Dense)              (None, 256)               131328    \n",
            "_________________________________________________________________\n",
            "activation_9 (Activation)    (None, 256)               0         \n",
            "_________________________________________________________________\n",
            "dropout_4 (Dropout)          (None, 256)               0         \n",
            "_________________________________________________________________\n",
            "dense_6 (Dense)              (None, 10)                2570      \n",
            "_________________________________________________________________\n",
            "activation_10 (Activation)   (None, 10)                0         \n",
            "=================================================================\n",
            "Total params: 535,818\n",
            "Trainable params: 535,818\n",
            "Non-trainable params: 0\n",
            "_________________________________________________________________\n",
            "None\n"
          ],
          "name": "stdout"
        }
      ]
    },
    {
      "cell_type": "code",
      "metadata": {
        "id": "XTTk-idTk7DA",
        "colab_type": "code",
        "colab": {}
      },
      "source": [
        "num_classes = 10\n",
        "x_train = x_train.reshape(60000, 784)\n",
        "x_test = x_test.reshape(10000, 784)\n",
        "x_train = x_train.astype('float32')\n",
        "x_test = x_test.astype('float32')\n",
        "x_train /= 255\n",
        "x_test /= 255\n",
        "y_train = keras.utils.to_categorical(y_train, num_classes)\n",
        "y_test = keras.utils.to_categorical(y_test, num_classes)\n"
      ],
      "execution_count": null,
      "outputs": []
    },
    {
      "cell_type": "code",
      "metadata": {
        "id": "0hqktDv9If1n",
        "colab_type": "code",
        "colab": {}
      },
      "source": [
        "# class MultitaskCallback(Callback):\n",
        "  \n",
        "#   def __init__(self, main_task, previous_task=None):\n",
        "#     self.main_task_preds=[]\n",
        "#     self.previous_task_preds=[]\n",
        "#     self.main_task = main_task\n",
        "#     self.previous_task = previous_task\n",
        "\n",
        "#   def on_epoch_end(self, epoch, logs=None):\n",
        "#     x,y = self.main_task\n",
        "#     predsA = self.model.evaluate(x,y)[1]\n",
        "#     print(f\"Evaluation results Main {predsA}\")\n",
        "#     self.main_task_preds.append(1-predsA)\n",
        "    \n",
        "#     if self.previous_task:\n",
        "#       x2,y2 = self.previous_task\n",
        "#       predsB = self.model.evaluate(x2, y2)[1]\n",
        "#       print(f\"Evaluation results Previous {predsB}\")\n",
        "#       self.previous_task_preds.append(1-predsB)\n",
        "\n",
        "class MultitaskCallback(Callback):\n",
        "  \n",
        "  def __init__(self, main_task, previous_task=None):\n",
        "    self.main_task = main_task\n",
        "    self.previous_task = previous_task\n",
        "    self.main_task_preds=[]\n",
        "    self.previous_task_preds=[]\n",
        "    self.batch_counter = 0\n",
        "\n",
        "  def on_train_batch_end(self, batch, logs=None):\n",
        "    if self.batch_counter %25 == 0:\n",
        "      x,y = self.main_task\n",
        "      predsA = self.model.evaluate(x,y)[1]\n",
        "      print(f\"Evaluation results Main {predsA}\")\n",
        "      self.main_task_preds.append(1-predsA)\n",
        "      \n",
        "      if self.previous_task:\n",
        "        x2,y2 = self.previous_task\n",
        "        predsB = self.model.evaluate(x2, y2)[1]\n",
        "        print(f\"Evaluation results Previous {predsB}\")\n",
        "        self.previous_task_preds.append(1-predsB)\n",
        "    self.batch_counter +=1\n",
        "    "
      ],
      "execution_count": null,
      "outputs": []
    },
    {
      "cell_type": "code",
      "metadata": {
        "id": "LKRRGNZnghgh",
        "colab_type": "code",
        "colab": {}
      },
      "source": [
        "# tensorboard = keras.callbacks.TensorBoard('/content/drive/My Drive/forgetting/taskA')\n",
        "# print(taskA_indx_train)\n",
        "taskA_callback = MultitaskCallback((x_test[taskA_indx_test], y_test[taskA_indx_test]))\n",
        "model.fit(x_train[taskA_indx_train], \n",
        "          y_train[taskA_indx_train],\n",
        "          callbacks=[taskA_callback],\n",
        "          batch_size=128,\n",
        "          epochs=5,\n",
        "          validation_data=(x_test[taskA_indx_test],y_test[taskA_indx_test])\n",
        "          )\n"
      ],
      "execution_count": null,
      "outputs": []
    },
    {
      "cell_type": "code",
      "metadata": {
        "id": "u4Xf7hlmhuhv",
        "colab_type": "code",
        "colab": {}
      },
      "source": [
        "# tensorboardB = keras.callbacks.TensorBoard('/content/drive/My Drive/forgetting/taskB')\n",
        "taskB_callback = MultitaskCallback((x_test[taskB_indx_test], y_test[taskB_indx_test]),\n",
        "                                   (x_test[taskA_indx_test], y_test[taskA_indx_test]))\n",
        "model.fit(x_train[taskB_indx_train], \n",
        "          y_train[taskB_indx_train],\n",
        "          callbacks=[taskB_callback],\n",
        "          batch_size=128,\n",
        "          epochs=10,\n",
        "          validation_data=(x_test[taskB_indx_test], y_test[taskB_indx_test])\n",
        "          )"
      ],
      "execution_count": null,
      "outputs": []
    },
    {
      "cell_type": "code",
      "metadata": {
        "id": "07Hmo26v6EvQ",
        "colab_type": "code",
        "colab": {}
      },
      "source": [
        "print(len(taskB_callback.main_task_preds))\n",
        "print(len(taskB_callback.previous_task_preds))\n",
        "print(len(taskA_callback.main_task_preds))\n",
        "\n",
        "print(taskA_callback.main_task_preds)\n",
        "print(taskB_callback.main_task_preds)\n",
        "print(taskB_callback.previous_task_preds)"
      ],
      "execution_count": null,
      "outputs": []
    },
    {
      "cell_type": "code",
      "metadata": {
        "id": "8l4qjwKV4HOC",
        "colab_type": "code",
        "colab": {
          "base_uri": "https://localhost:8080/",
          "height": 336
        },
        "outputId": "7179d947-59b1-4ea7-895c-9ac6660db684"
      },
      "source": [
        "import matplotlib.pyplot as plt\n",
        "\n",
        "fig,(ax1,ax2) = plt.subplots(1,2, figsize=(14,5))\n",
        "ax1.set_title(\"Task A performance\")\n",
        "ax1.plot(taskA_callback.main_task_preds, label='Task A')\n",
        "ax1.legend()\n",
        "ax2.set_title(\"Task A and B performance\")\n",
        "ax2.plot(taskB_callback.main_task_preds, 'orange',label=\"TaskB\")\n",
        "ax2.plot(taskB_callback.previous_task_preds,label='Task A')\n",
        "ax2.legend()\n",
        "plt.show()\n",
        "fig.savefig('/content/drive/My Drive/hw3_1a.png')"
      ],
      "execution_count": null,
      "outputs": [
        {
          "output_type": "display_data",
          "data": {
            "image/png": "[encoded data removed]",
            "text/plain": [
              "<Figure size 1008x360 with 2 Axes>"
            ]
          },
          "metadata": {
            "tags": [],
            "needs_background": "light"
          }
        }
      ]
    },
    {
      "cell_type": "code",
      "metadata": {
        "id": "mnVo-Gl5ORmo",
        "colab_type": "code",
        "colab": {
          "base_uri": "https://localhost:8080/",
          "height": 67
        },
        "outputId": "0064ce64-dae3-4392-dc98-d063661c21e1"
      },
      "source": [
        "a = np.arange(50000)\n",
        "b = np.setdiff1d(a,taskA_indx_train[0])\n",
        "print(b)\n",
        "u = np.intersect1d(b,taskA_indx_train[0])\n",
        "print(u)\n",
        "print(y_train.shape[0])\n"
      ],
      "execution_count": null,
      "outputs": [
        {
          "output_type": "stream",
          "text": [
            "[    0     2     3 ... 49997 49998 49999]\n",
            "[]\n",
            "60000\n"
          ],
          "name": "stdout"
        }
      ]
    },
    {
      "cell_type": "code",
      "metadata": {
        "id": "1bKqgIgFJs_i",
        "colab_type": "code",
        "colab": {
          "base_uri": "https://localhost:8080/",
          "height": 269
        },
        "outputId": "9175ece7-3ffa-4f41-eea4-2f07ebe3166e"
      },
      "source": [
        "a = np.random.randint(0,5,(10,6))\n",
        "print(a)\n",
        "ix =[1,3,5,7,9]\n",
        "print(a[ix][:, :3])"
      ],
      "execution_count": null,
      "outputs": [
        {
          "output_type": "stream",
          "text": [
            "[[2 2 0 4 4 4]\n",
            " [1 1 0 2 0 2]\n",
            " [3 0 0 4 3 3]\n",
            " [4 2 1 2 0 0]\n",
            " [1 1 1 0 2 2]\n",
            " [2 3 1 3 4 4]\n",
            " [3 4 1 1 2 0]\n",
            " [0 1 4 0 4 3]\n",
            " [2 2 0 1 4 2]\n",
            " [0 2 0 0 3 4]]\n",
            "[[1 1 0]\n",
            " [4 2 1]\n",
            " [2 3 1]\n",
            " [0 1 4]\n",
            " [0 2 0]]\n"
          ],
          "name": "stdout"
        }
      ]
    }
  ]
}